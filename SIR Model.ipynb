{
 "cells": [
  {
   "cell_type": "markdown",
   "id": "e00c8669",
   "metadata": {},
   "source": [
    "**Analysis of the SIR Model:** "
   ]
  },
  {
   "cell_type": "markdown",
   "id": "73b879fc",
   "metadata": {},
   "source": [
    "The SIR model of infection spread is a set of differential equations describing how an infection spreads in a population."
   ]
  },
  {
   "cell_type": "markdown",
   "id": "ffca573c",
   "metadata": {},
   "source": [
    "The exact differential equations are given below:"
   ]
  },
  {
   "cell_type": "markdown",
   "id": "bb0b11bb",
   "metadata": {},
   "source": [
    "$\\frac{dS}{dt} = -b S(t) I(t)  \\\\\n",
    "\\frac{dI}{dt} = b S(t) I(t) - k I(t) \\\\\n",
    "\\frac{dR}{dt} = k I(t)$"
   ]
  },
  {
   "cell_type": "markdown",
   "id": "af36cd8d",
   "metadata": {},
   "source": [
    "Here, $S(t)$ describes the number of susceptible individuals, $I(t)$ represents the number of infected individuals and $R(t)$ describes the number of recovered individuals. The values of the parameters $b$ and $k$ are unknown, but can be estimated from the data. Here we will assume $b = 1/2$ and $k = 1/3$.  \n",
    "The intial conditions are:  \n",
    "$S(0) = 1 \\\\ I(0) = 1.27e-6 \\\\ R(0) = 0$"
   ]
  },
  {
   "cell_type": "code",
   "execution_count": 3,
   "id": "dc5f73a5",
   "metadata": {},
   "outputs": [],
   "source": [
    "import numpy as np\n",
    "import matplotlib.pyplot as plt\n",
    "from scipy.integrate import odeint"
   ]
  },
  {
   "cell_type": "code",
   "execution_count": 19,
   "id": "624b3be8",
   "metadata": {},
   "outputs": [],
   "source": [
    "class Model:\n",
    "    \n",
    "    def __init__(self, S0=1, I0=1.27e-6, R0=0, b = 0.5, k = 1/3):\n",
    "        self.S0 = S0\n",
    "        self.I0 = I0\n",
    "        self.R0 = R0\n",
    "        self.b = b\n",
    "        self.k = k\n",
    "        \n",
    "    @staticmethod\n",
    "    def diff_eqns(state, t, self):\n",
    "        \n",
    "        S, I, R = state\n",
    "        \n",
    "        #writing the differential equations\n",
    "        dSdt = -self.b*S*I\n",
    "        dIdt = self.b*S*I - self.k*I\n",
    "        dRdt = self.k*I\n",
    "        \n",
    "        return dSdt, dIdt, dRdt\n",
    "        \n",
    "    def execute(self, intial_vals, t_start = 0, t_end = 150, t_interval = 1, return_vals=False, plot=True):\n",
    "        \n",
    "        #intial_vals must be a liist in the form of [S, I, R]\n",
    "        t = np.arange(t_start, t_end, t_interval)\n",
    "        state = odeint(self.diff_eqns, initial_vals, t, args=(self,))\n",
    "        \n",
    "        S = state[:, 0]\n",
    "        I = state[:, 1]\n",
    "        R = state[:, 2]\n",
    "        \n",
    "        if plot:\n",
    "            \n",
    "            plt.plot(t, S, \"b-\", label=\"Susceptible Individuals\")\n",
    "            plt.plot(t, I, \"r-\", label=\"Infected Individuals\")\n",
    "            plt.plot(t, R, \"g-\", label = \"Recovered Infividuals\")\n",
    "            \n",
    "            plt.legend()\n",
    "            \n",
    "            plt.xlabel(\"Days\")\n",
    "            plt.title(\"Simulation of the SIR model\")\n",
    "            \n",
    "        if return_vals:\n",
    "            return S, I, R\n",
    "        \n",
    "        "
   ]
  },
  {
   "cell_type": "code",
   "execution_count": 20,
   "id": "f2189d8b",
   "metadata": {},
   "outputs": [
    {
     "data": {
      "image/png": "[encoded data removed]",
      "text/plain": [
       "<Figure size 432x288 with 1 Axes>"
      ]
     },
     "metadata": {
      "needs_background": "light"
     },
     "output_type": "display_data"
    }
   ],
   "source": [
    "model = Model()\n",
    "\n",
    "#S, I , R\n",
    "initial_vals = [1, 1.27e-6, 0]\n",
    "\n",
    "model.execute(initial_vals, t_start = 0, t_end=150, t_interval=1)"
   ]
  },
  {
   "cell_type": "code",
   "execution_count": null,
   "id": "7e49b23d",
   "metadata": {},
   "outputs": [],
   "source": []
  }
 ],
 "metadata": {
  "kernelspec": {
   "display_name": "Python 3 (ipykernel)",
   "language": "python",
   "name": "python3"
  },
  "language_info": {
   "codemirror_mode": {
    "name": "ipython",
    "version": 3
   },
   "file_extension": ".py",
   "mimetype": "text/x-python",
   "name": "python",
   "nbconvert_exporter": "python",
   "pygments_lexer": "ipython3",
   "version": "3.8.12"
  }
 },
 "nbformat": 4,
 "nbformat_minor": 5
}
